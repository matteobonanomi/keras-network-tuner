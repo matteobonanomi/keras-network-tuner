{
 "cells": [
  {
   "cell_type": "markdown",
   "metadata": {},
   "source": [
    "### IMPORT LIBRARIES"
   ]
  },
  {
   "cell_type": "code",
   "execution_count": 1,
   "metadata": {},
   "outputs": [],
   "source": [
    "import numpy as np\n",
    "import pandas as pd\n",
    "import os\n",
    "import logging\n",
    "import yaml\n",
    "from sklearn.preprocessing import StandardScaler\n",
    "from sklearn.model_selection import GridSearchCV\n",
    "from sklearn.metrics import mean_absolute_error, mean_squared_error\n",
    "from tensorflow.keras.datasets import boston_housing\n",
    "from tensorflow.keras.layers import *\n",
    "from tensorflow.keras.models import *\n",
    "from tensorflow.keras.wrappers.scikit_learn import KerasRegressor\n",
    "from tensorflow.keras.callbacks import EarlyStopping, ReduceLROnPlateau"
   ]
  },
  {
   "cell_type": "markdown",
   "metadata": {},
   "source": [
    "### IMPORT CONFIG"
   ]
  },
  {
   "cell_type": "code",
   "execution_count": 2,
   "metadata": {},
   "outputs": [],
   "source": [
    "with open(\"../config/keras_config.yaml\", 'r') as stream:\n",
    "    kerasgrid_config = yaml.safe_load(stream)"
   ]
  },
  {
   "cell_type": "code",
   "execution_count": 3,
   "metadata": {},
   "outputs": [],
   "source": [
    "def convert_yaml2grid(yaml):\n",
    "    \n",
    "    grid = [tuple([tuple(yaml[k1][k2]) for k2 in list(yaml[k1])]) for k1 in list(yaml)]\n",
    "    \n",
    "    return grid"
   ]
  },
  {
   "cell_type": "code",
   "execution_count": 4,
   "metadata": {},
   "outputs": [],
   "source": [
    "kerasgrid_config['grid_params']['network'] = convert_yaml2grid(kerasgrid_config['grid_params']['network'])"
   ]
  },
  {
   "cell_type": "markdown",
   "metadata": {},
   "source": [
    "### SETUP LOGGER"
   ]
  },
  {
   "cell_type": "code",
   "execution_count": 5,
   "metadata": {},
   "outputs": [],
   "source": [
    "logging._warn_preinit_stderr = 0\n",
    "logger = logging.getLogger()\n",
    "# create file handler that logs debug and higher level messages\n",
    "_file_path = '../logs/'\n",
    "_file_name = pd.Timestamp.utcnow().strftime('%Y%m%d_%H%M_')+'notebook.log'\n",
    "fh = logging.FileHandler(_file_path + _file_name)\n",
    "fh.setLevel(logging.DEBUG)\n",
    "# create console handler with a higher log level\n",
    "ch = logging.StreamHandler()\n",
    "ch.setLevel(logging.DEBUG)\n",
    "# create formatter and add it to the handlers\n",
    "formatter = logging.Formatter('%(asctime)s - %(levelname)s - %(message)s')\n",
    "ch.setFormatter(formatter)\n",
    "fh.setFormatter(formatter)\n",
    "# add the handlers to logger\n",
    "logger.addHandler(ch)\n",
    "logger.addHandler(fh)\n",
    "logger.setLevel(logging.DEBUG)"
   ]
  },
  {
   "cell_type": "markdown",
   "metadata": {},
   "source": [
    "### AUXILIARY FUNCTIONS"
   ]
  },
  {
   "cell_type": "code",
   "execution_count": 6,
   "metadata": {},
   "outputs": [],
   "source": [
    "def create_model(input_layer_shape=None,\n",
    "                 network=((10, 'relu', 0.1),(1,'linear',0)), \n",
    "                 optimizer='adam'):\n",
    "    n = len(network)\n",
    "    model = Sequential()\n",
    "    model.add(Dropout(network[0][2]))\n",
    "    model.add(Dense(network[0][0], input_dim=input_layer_shape, activation=network[0][1]))\n",
    "    if n>1:\n",
    "        for _layer in range(1,n):\n",
    "            model.add(Dropout(network[_layer][2]))\n",
    "            model.add(Dense(network[_layer][0], activation=network[_layer][1]))\n",
    "\n",
    "    model.compile(loss='mae', optimizer=optimizer, metrics=['accuracy']) \n",
    "    return model\n",
    "\n",
    "\n",
    "def generate_callbacks():\n",
    "    \n",
    "    early = EarlyStopping(monitor='val_loss', min_delta=0.1, patience=10, \n",
    "                      verbose=0, mode='auto', baseline=None, restore_best_weights=False)\n",
    "    reducelr = ReduceLROnPlateau(monitor='val_loss', factor=0.1, patience=10, \n",
    "                             verbose=0, mode='auto', min_delta=0.001, cooldown=0, min_lr=0)\n",
    "    \n",
    "    return [early, reducelr]"
   ]
  },
  {
   "cell_type": "markdown",
   "metadata": {},
   "source": [
    "### MAIN CLASS OBJECT"
   ]
  },
  {
   "cell_type": "code",
   "execution_count": 7,
   "metadata": {},
   "outputs": [],
   "source": [
    "class gridSearchKerasNN(object):\n",
    "    \n",
    "    def __init__(self, config=None):\n",
    "        \n",
    "        if config is None:\n",
    "            logger.info('No default config dictionaty was loaded')\n",
    "        else:\n",
    "            self.set_config_params(config)\n",
    "            self._config = config\n",
    "            logger.info('Default config dictionaty was initialized')\n",
    "        \n",
    "        return\n",
    "    \n",
    "    def set_grid_params(self, params):\n",
    "        \n",
    "        self._grid_params = params\n",
    "        \n",
    "        return\n",
    "    \n",
    "    def set_callbacks(self, callbacks_function):\n",
    "        \n",
    "        self._generate_callbacks = callbacks_function\n",
    "        \n",
    "        return\n",
    "    \n",
    "    def set_cv_params(self, params):\n",
    "        \n",
    "        self._cv_params = params\n",
    "        \n",
    "        return\n",
    "    \n",
    "    def set_config_params(self, config=None):\n",
    "        \n",
    "        if config is None:\n",
    "            logger.info('Default config parameters will be used')\n",
    "        else:\n",
    "            self.set_grid_params(config['grid_params'])\n",
    "            self.set_callbacks(config['keras_callbacks'])\n",
    "            self.set_cv_params(config['cv_params'])\n",
    "            logger.info('Passed config parameters will be used')\n",
    "        \n",
    "        return\n",
    "    \n",
    "    def initialize_network(self, network_function):\n",
    "        \n",
    "        self._model = KerasRegressor(build_fn=network_function)\n",
    "        \n",
    "        return\n",
    "    \n",
    "    def initialize_grid(self):\n",
    "        \n",
    "        _cv = self._cv_params['cv']\n",
    "        _verb = self._cv_params['verb']\n",
    "        _scoring = self._cv_params['scoring']\n",
    "        _n_jobs = self._cv_params['n_jobs']\n",
    "        \n",
    "        self._grid = GridSearchCV(estimator=self._model, \n",
    "                                  param_grid=self._grid_params, \n",
    "                                  scoring=_scoring, \n",
    "                                  cv=_cv, \n",
    "                                  verbose = _verb,\n",
    "                                  n_jobs = _n_jobs)\n",
    "        logger.info('GridSearchCV object is instantiated')\n",
    "        \n",
    "        return\n",
    "    \n",
    "    def fit(self, X_train, y_train, X_test, y_test):\n",
    "        \n",
    "        self._grid_params['input_layer_shape'] = [X_train.shape[1]]\n",
    "        \n",
    "        self._grid_results = self._grid.fit(X_train, y_train, \n",
    "                                     validation_data=(X_test,y_test), \n",
    "                                     callbacks=self._generate_callbacks(), \n",
    "                                     verbose=0)\n",
    "        \n",
    "        print(\"Best: %f using %s\" % (self._grid_results.best_score_, self._grid_results.best_params_))\n",
    "        \n",
    "        return\n",
    "    \n",
    "    def predict(self, X_test, y_test):\n",
    "        \n",
    "        y_pred = self._grid.predict(X_test)\n",
    "        mae = mean_absolute_error(y_test, y_pred)\n",
    "        rmse = np.sqrt(mean_squared_error(y_test, y_pred))\n",
    "        logger.info('MAE on test: {:.2f}, RMSE on test: {:.2f}'.format(mae, rmse))\n",
    "        \n",
    "        return\n",
    "    \n",
    "    def load(self):\n",
    "        \n",
    "        return\n",
    "    \n",
    "    def dump(self):\n",
    "        \n",
    "        return"
   ]
  },
  {
   "cell_type": "markdown",
   "metadata": {},
   "source": [
    "### EXAMPLE: BOSTON HOUSING DATASET"
   ]
  },
  {
   "cell_type": "code",
   "execution_count": 8,
   "metadata": {},
   "outputs": [],
   "source": [
    "# PREPROCESSING\n",
    "\n",
    "(X_train, y_train), (X_test, y_test) = boston_housing.load_data()\n",
    "\n",
    "X_scaler = StandardScaler()\n",
    "X_scaler.fit(X_train)\n",
    "X_train = X_scaler.transform(X_train)\n",
    "X_test = X_scaler.transform(X_test)"
   ]
  },
  {
   "cell_type": "code",
   "execution_count": 9,
   "metadata": {},
   "outputs": [
    {
     "name": "stderr",
     "output_type": "stream",
     "text": [
      "WARNING: Logging before flag parsing goes to stderr.\n",
      "I0102 11:29:04.896558 140657430177600 <ipython-input-7-725e9a3cac19>:40] Passed config parameters will be used\n",
      "2020-01-02 11:29:04,896 - INFO - Passed config parameters will be used\n",
      "I0102 11:29:04.898649 140657430177600 <ipython-input-7-725e9a3cac19>:10] Default config dictionaty was initialized\n",
      "2020-01-02 11:29:04,898 - INFO - Default config dictionaty was initialized\n",
      "I0102 11:29:04.900022 140657430177600 <ipython-input-7-725e9a3cac19>:63] GridSearchCV object is instantiated\n",
      "2020-01-02 11:29:04,900 - INFO - GridSearchCV object is instantiated\n"
     ]
    },
    {
     "name": "stdout",
     "output_type": "stream",
     "text": [
      "Fitting 4 folds for each of 8 candidates, totalling 32 fits\n",
      "[CV] batch_size=32, epochs=50, input_layer_shape=13, network=((10, 'relu', 0.1), (1, 'linear', 0)), optimizer=adam \n",
      "[CV]  batch_size=32, epochs=50, input_layer_shape=13, network=((10, 'relu', 0.1), (1, 'linear', 0)), optimizer=adam, total=   2.1s\n",
      "[CV] batch_size=32, epochs=50, input_layer_shape=13, network=((10, 'relu', 0.1), (1, 'linear', 0)), optimizer=adam \n"
     ]
    },
    {
     "name": "stderr",
     "output_type": "stream",
     "text": [
      "[Parallel(n_jobs=1)]: Done   1 out of   1 | elapsed:    2.1s remaining:    0.0s\n"
     ]
    },
    {
     "name": "stdout",
     "output_type": "stream",
     "text": [
      "[CV]  batch_size=32, epochs=50, input_layer_shape=13, network=((10, 'relu', 0.1), (1, 'linear', 0)), optimizer=adam, total=   1.7s\n",
      "[CV] batch_size=32, epochs=50, input_layer_shape=13, network=((10, 'relu', 0.1), (1, 'linear', 0)), optimizer=adam \n",
      "[CV]  batch_size=32, epochs=50, input_layer_shape=13, network=((10, 'relu', 0.1), (1, 'linear', 0)), optimizer=adam, total=   1.9s\n",
      "[CV] batch_size=32, epochs=50, input_layer_shape=13, network=((10, 'relu', 0.1), (1, 'linear', 0)), optimizer=adam \n",
      "[CV]  batch_size=32, epochs=50, input_layer_shape=13, network=((10, 'relu', 0.1), (1, 'linear', 0)), optimizer=adam, total=   2.2s\n",
      "[CV] batch_size=32, epochs=50, input_layer_shape=13, network=((10, 'relu', 0.1), (1, 'linear', 0)), optimizer=sgd \n",
      "[CV]  batch_size=32, epochs=50, input_layer_shape=13, network=((10, 'relu', 0.1), (1, 'linear', 0)), optimizer=sgd, total=   1.9s\n",
      "[CV] batch_size=32, epochs=50, input_layer_shape=13, network=((10, 'relu', 0.1), (1, 'linear', 0)), optimizer=sgd \n",
      "[CV]  batch_size=32, epochs=50, input_layer_shape=13, network=((10, 'relu', 0.1), (1, 'linear', 0)), optimizer=sgd, total=   2.0s\n",
      "[CV] batch_size=32, epochs=50, input_layer_shape=13, network=((10, 'relu', 0.1), (1, 'linear', 0)), optimizer=sgd \n",
      "[CV]  batch_size=32, epochs=50, input_layer_shape=13, network=((10, 'relu', 0.1), (1, 'linear', 0)), optimizer=sgd, total=   1.8s\n",
      "[CV] batch_size=32, epochs=50, input_layer_shape=13, network=((10, 'relu', 0.1), (1, 'linear', 0)), optimizer=sgd \n",
      "[CV]  batch_size=32, epochs=50, input_layer_shape=13, network=((10, 'relu', 0.1), (1, 'linear', 0)), optimizer=sgd, total=   2.7s\n",
      "[CV] batch_size=32, epochs=50, input_layer_shape=13, network=((20, 'relu', 0.1), (10, 'relu', 0.1), (1, 'linear', 0)), optimizer=adam \n",
      "[CV]  batch_size=32, epochs=50, input_layer_shape=13, network=((20, 'relu', 0.1), (10, 'relu', 0.1), (1, 'linear', 0)), optimizer=adam, total=   2.8s\n",
      "[CV] batch_size=32, epochs=50, input_layer_shape=13, network=((20, 'relu', 0.1), (10, 'relu', 0.1), (1, 'linear', 0)), optimizer=adam \n",
      "[CV]  batch_size=32, epochs=50, input_layer_shape=13, network=((20, 'relu', 0.1), (10, 'relu', 0.1), (1, 'linear', 0)), optimizer=adam, total=   2.4s\n",
      "[CV] batch_size=32, epochs=50, input_layer_shape=13, network=((20, 'relu', 0.1), (10, 'relu', 0.1), (1, 'linear', 0)), optimizer=adam \n",
      "[CV]  batch_size=32, epochs=50, input_layer_shape=13, network=((20, 'relu', 0.1), (10, 'relu', 0.1), (1, 'linear', 0)), optimizer=adam, total=   2.2s\n",
      "[CV] batch_size=32, epochs=50, input_layer_shape=13, network=((20, 'relu', 0.1), (10, 'relu', 0.1), (1, 'linear', 0)), optimizer=adam \n",
      "[CV]  batch_size=32, epochs=50, input_layer_shape=13, network=((20, 'relu', 0.1), (10, 'relu', 0.1), (1, 'linear', 0)), optimizer=adam, total=   2.3s\n",
      "[CV] batch_size=32, epochs=50, input_layer_shape=13, network=((20, 'relu', 0.1), (10, 'relu', 0.1), (1, 'linear', 0)), optimizer=sgd \n",
      "[CV]  batch_size=32, epochs=50, input_layer_shape=13, network=((20, 'relu', 0.1), (10, 'relu', 0.1), (1, 'linear', 0)), optimizer=sgd, total=   1.8s\n",
      "[CV] batch_size=32, epochs=50, input_layer_shape=13, network=((20, 'relu', 0.1), (10, 'relu', 0.1), (1, 'linear', 0)), optimizer=sgd \n",
      "[CV]  batch_size=32, epochs=50, input_layer_shape=13, network=((20, 'relu', 0.1), (10, 'relu', 0.1), (1, 'linear', 0)), optimizer=sgd, total=   1.9s\n",
      "[CV] batch_size=32, epochs=50, input_layer_shape=13, network=((20, 'relu', 0.1), (10, 'relu', 0.1), (1, 'linear', 0)), optimizer=sgd \n",
      "[CV]  batch_size=32, epochs=50, input_layer_shape=13, network=((20, 'relu', 0.1), (10, 'relu', 0.1), (1, 'linear', 0)), optimizer=sgd, total=   1.4s\n",
      "[CV] batch_size=32, epochs=50, input_layer_shape=13, network=((20, 'relu', 0.1), (10, 'relu', 0.1), (1, 'linear', 0)), optimizer=sgd \n",
      "[CV]  batch_size=32, epochs=50, input_layer_shape=13, network=((20, 'relu', 0.1), (10, 'relu', 0.1), (1, 'linear', 0)), optimizer=sgd, total=   1.7s\n",
      "[CV] batch_size=32, epochs=100, input_layer_shape=13, network=((10, 'relu', 0.1), (1, 'linear', 0)), optimizer=adam \n",
      "[CV]  batch_size=32, epochs=100, input_layer_shape=13, network=((10, 'relu', 0.1), (1, 'linear', 0)), optimizer=adam, total=   3.7s\n",
      "[CV] batch_size=32, epochs=100, input_layer_shape=13, network=((10, 'relu', 0.1), (1, 'linear', 0)), optimizer=adam \n",
      "[CV]  batch_size=32, epochs=100, input_layer_shape=13, network=((10, 'relu', 0.1), (1, 'linear', 0)), optimizer=adam, total=   3.6s\n",
      "[CV] batch_size=32, epochs=100, input_layer_shape=13, network=((10, 'relu', 0.1), (1, 'linear', 0)), optimizer=adam \n",
      "[CV]  batch_size=32, epochs=100, input_layer_shape=13, network=((10, 'relu', 0.1), (1, 'linear', 0)), optimizer=adam, total=   3.2s\n",
      "[CV] batch_size=32, epochs=100, input_layer_shape=13, network=((10, 'relu', 0.1), (1, 'linear', 0)), optimizer=adam \n",
      "[CV]  batch_size=32, epochs=100, input_layer_shape=13, network=((10, 'relu', 0.1), (1, 'linear', 0)), optimizer=adam, total=   3.3s\n",
      "[CV] batch_size=32, epochs=100, input_layer_shape=13, network=((10, 'relu', 0.1), (1, 'linear', 0)), optimizer=sgd \n",
      "[CV]  batch_size=32, epochs=100, input_layer_shape=13, network=((10, 'relu', 0.1), (1, 'linear', 0)), optimizer=sgd, total=   3.5s\n",
      "[CV] batch_size=32, epochs=100, input_layer_shape=13, network=((10, 'relu', 0.1), (1, 'linear', 0)), optimizer=sgd \n",
      "[CV]  batch_size=32, epochs=100, input_layer_shape=13, network=((10, 'relu', 0.1), (1, 'linear', 0)), optimizer=sgd, total=   2.6s\n",
      "[CV] batch_size=32, epochs=100, input_layer_shape=13, network=((10, 'relu', 0.1), (1, 'linear', 0)), optimizer=sgd \n",
      "[CV]  batch_size=32, epochs=100, input_layer_shape=13, network=((10, 'relu', 0.1), (1, 'linear', 0)), optimizer=sgd, total=   2.4s\n",
      "[CV] batch_size=32, epochs=100, input_layer_shape=13, network=((10, 'relu', 0.1), (1, 'linear', 0)), optimizer=sgd \n",
      "[CV]  batch_size=32, epochs=100, input_layer_shape=13, network=((10, 'relu', 0.1), (1, 'linear', 0)), optimizer=sgd, total=   3.2s\n",
      "[CV] batch_size=32, epochs=100, input_layer_shape=13, network=((20, 'relu', 0.1), (10, 'relu', 0.1), (1, 'linear', 0)), optimizer=adam \n",
      "[CV]  batch_size=32, epochs=100, input_layer_shape=13, network=((20, 'relu', 0.1), (10, 'relu', 0.1), (1, 'linear', 0)), optimizer=adam, total=   3.1s\n",
      "[CV] batch_size=32, epochs=100, input_layer_shape=13, network=((20, 'relu', 0.1), (10, 'relu', 0.1), (1, 'linear', 0)), optimizer=adam \n",
      "[CV]  batch_size=32, epochs=100, input_layer_shape=13, network=((20, 'relu', 0.1), (10, 'relu', 0.1), (1, 'linear', 0)), optimizer=adam, total=   2.6s\n",
      "[CV] batch_size=32, epochs=100, input_layer_shape=13, network=((20, 'relu', 0.1), (10, 'relu', 0.1), (1, 'linear', 0)), optimizer=adam \n",
      "[CV]  batch_size=32, epochs=100, input_layer_shape=13, network=((20, 'relu', 0.1), (10, 'relu', 0.1), (1, 'linear', 0)), optimizer=adam, total=   3.0s\n",
      "[CV] batch_size=32, epochs=100, input_layer_shape=13, network=((20, 'relu', 0.1), (10, 'relu', 0.1), (1, 'linear', 0)), optimizer=adam \n",
      "[CV]  batch_size=32, epochs=100, input_layer_shape=13, network=((20, 'relu', 0.1), (10, 'relu', 0.1), (1, 'linear', 0)), optimizer=adam, total=   2.5s\n",
      "[CV] batch_size=32, epochs=100, input_layer_shape=13, network=((20, 'relu', 0.1), (10, 'relu', 0.1), (1, 'linear', 0)), optimizer=sgd \n",
      "[CV]  batch_size=32, epochs=100, input_layer_shape=13, network=((20, 'relu', 0.1), (10, 'relu', 0.1), (1, 'linear', 0)), optimizer=sgd, total=   1.3s\n",
      "[CV] batch_size=32, epochs=100, input_layer_shape=13, network=((20, 'relu', 0.1), (10, 'relu', 0.1), (1, 'linear', 0)), optimizer=sgd \n",
      "[CV]  batch_size=32, epochs=100, input_layer_shape=13, network=((20, 'relu', 0.1), (10, 'relu', 0.1), (1, 'linear', 0)), optimizer=sgd, total=   1.6s\n",
      "[CV] batch_size=32, epochs=100, input_layer_shape=13, network=((20, 'relu', 0.1), (10, 'relu', 0.1), (1, 'linear', 0)), optimizer=sgd \n",
      "[CV]  batch_size=32, epochs=100, input_layer_shape=13, network=((20, 'relu', 0.1), (10, 'relu', 0.1), (1, 'linear', 0)), optimizer=sgd, total=   1.4s\n",
      "[CV] batch_size=32, epochs=100, input_layer_shape=13, network=((20, 'relu', 0.1), (10, 'relu', 0.1), (1, 'linear', 0)), optimizer=sgd \n",
      "[CV]  batch_size=32, epochs=100, input_layer_shape=13, network=((20, 'relu', 0.1), (10, 'relu', 0.1), (1, 'linear', 0)), optimizer=sgd, total=   1.7s\n"
     ]
    },
    {
     "name": "stderr",
     "output_type": "stream",
     "text": [
      "[Parallel(n_jobs=1)]: Done  32 out of  32 | elapsed:  1.3min finished\n"
     ]
    },
    {
     "name": "stdout",
     "output_type": "stream",
     "text": [
      "Best: -2.830687 using {'batch_size': 32, 'epochs': 50, 'input_layer_shape': 13, 'network': ((20, 'relu', 0.1), (10, 'relu', 0.1), (1, 'linear', 0)), 'optimizer': 'sgd'}\n",
      "CPU times: user 1min 31s, sys: 4.12 s, total: 1min 35s\n",
      "Wall time: 1min 18s\n"
     ]
    }
   ],
   "source": [
    "%%time\n",
    "# TRAIN\n",
    "gridKeras = gridSearchKerasNN(kerasgrid_config)\n",
    "gridKeras.set_callbacks(generate_callbacks)\n",
    "gridKeras.initialize_network(create_model)\n",
    "gridKeras.initialize_grid()\n",
    "gridKeras.fit(X_train, y_train, X_test, y_test)"
   ]
  },
  {
   "cell_type": "code",
   "execution_count": 10,
   "metadata": {},
   "outputs": [
    {
     "name": "stderr",
     "output_type": "stream",
     "text": [
      "I0102 11:30:23.332768 140657430177600 <ipython-input-7-725e9a3cac19>:85] MAE on test: 3.53, RMSE on test: 4.78\n",
      "2020-01-02 11:30:23,332 - INFO - MAE on test: 3.53, RMSE on test: 4.78\n"
     ]
    }
   ],
   "source": [
    "# TEST\n",
    "gridKeras.predict(X_test,y_test)"
   ]
  },
  {
   "cell_type": "code",
   "execution_count": null,
   "metadata": {},
   "outputs": [],
   "source": [
    "\n",
    "\n",
    "\n"
   ]
  }
 ],
 "metadata": {
  "kernelspec": {
   "display_name": "Python 3",
   "language": "python",
   "name": "python3"
  },
  "language_info": {
   "codemirror_mode": {
    "name": "ipython",
    "version": 3
   },
   "file_extension": ".py",
   "mimetype": "text/x-python",
   "name": "python",
   "nbconvert_exporter": "python",
   "pygments_lexer": "ipython3",
   "version": "3.6.9"
  }
 },
 "nbformat": 4,
 "nbformat_minor": 2
}
