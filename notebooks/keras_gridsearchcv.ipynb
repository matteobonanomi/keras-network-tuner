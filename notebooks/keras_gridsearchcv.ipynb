{
 "cells": [
  {
   "cell_type": "markdown",
   "metadata": {},
   "source": [
    "### IMPORT LIBRARIES"
   ]
  },
  {
   "cell_type": "code",
   "execution_count": 1,
   "metadata": {},
   "outputs": [
    {
     "name": "stderr",
     "output_type": "stream",
     "text": [
      "Using TensorFlow backend.\n"
     ]
    }
   ],
   "source": [
    "import numpy as np\n",
    "import pandas as pd\n",
    "import os\n",
    "import logging\n",
    "import yaml\n",
    "import matplotlib.pyplot as plt\n",
    "from sklearn.preprocessing import StandardScaler\n",
    "from sklearn.model_selection import GridSearchCV\n",
    "from sklearn.metrics import mean_absolute_error, mean_squared_error\n",
    "from tensorflow.keras.datasets import boston_housing\n",
    "from keras.regularizers import *\n",
    "from tensorflow.keras.layers import *\n",
    "from tensorflow.keras.models import *\n",
    "from tensorflow.keras.wrappers.scikit_learn import KerasRegressor\n",
    "from tensorflow.keras.callbacks import EarlyStopping, ReduceLROnPlateau"
   ]
  },
  {
   "cell_type": "markdown",
   "metadata": {},
   "source": [
    "### IMPORT CONFIG"
   ]
  },
  {
   "cell_type": "code",
   "execution_count": 2,
   "metadata": {},
   "outputs": [],
   "source": [
    "with open(\"../config/keras_config.yaml\", 'r') as stream:\n",
    "    kerasgrid_config = yaml.safe_load(stream)"
   ]
  },
  {
   "cell_type": "code",
   "execution_count": 3,
   "metadata": {},
   "outputs": [],
   "source": [
    "def convert_yaml2grid(yaml):\n",
    "    \n",
    "    grid = [tuple([tuple(yaml[k1][k2]) for k2 in list(yaml[k1])]) for k1 in list(yaml)]\n",
    "    \n",
    "    return grid\n",
    "\n",
    "def return_empty_list():\n",
    "    \n",
    "    return []"
   ]
  },
  {
   "cell_type": "code",
   "execution_count": 4,
   "metadata": {},
   "outputs": [],
   "source": [
    "kerasgrid_config['grid_params']['network'] = convert_yaml2grid(kerasgrid_config['grid_params']['network'])"
   ]
  },
  {
   "cell_type": "markdown",
   "metadata": {},
   "source": [
    "### SETUP LOGGER"
   ]
  },
  {
   "cell_type": "code",
   "execution_count": 5,
   "metadata": {},
   "outputs": [],
   "source": [
    "logging._warn_preinit_stderr = 0\n",
    "logger = logging.getLogger()\n",
    "# create file handler that logs debug and higher level messages\n",
    "_file_path = '../logs/'\n",
    "_file_name = pd.Timestamp.utcnow().strftime('%Y%m%d_%H%M_')+'notebook.log'\n",
    "fh = logging.FileHandler(_file_path + _file_name)\n",
    "fh.setLevel(logging.INFO)\n",
    "# create console handler with a higher log level\n",
    "ch = logging.StreamHandler()\n",
    "ch.setLevel(logging.INFO)\n",
    "# create formatter and add it to the handlers\n",
    "formatter = logging.Formatter('%(asctime)s - %(levelname)s - %(message)s')\n",
    "ch.setFormatter(formatter)\n",
    "fh.setFormatter(formatter)\n",
    "# add the handlers to logger\n",
    "logger.addHandler(ch)\n",
    "logger.addHandler(fh)\n",
    "logger.setLevel(logging.INFO)"
   ]
  },
  {
   "cell_type": "markdown",
   "metadata": {},
   "source": [
    "### AUXILIARY FUNCTIONS"
   ]
  },
  {
   "cell_type": "code",
   "execution_count": 6,
   "metadata": {},
   "outputs": [],
   "source": [
    "def create_model(input_layer_shape=None,\n",
    "                 network=((10, 'relu', 0.1),(1,'linear',0)), \n",
    "                 optimizer='adam'):\n",
    "    n = len(network)\n",
    "    model = Sequential()\n",
    "    model.add(Dropout(network[0][2]))\n",
    "    model.add(Dense(network[0][0], input_dim=input_layer_shape, activation=network[0][1]))\n",
    "    if n>1:\n",
    "        for _layer in range(1,n):\n",
    "            model.add(Dropout(network[_layer][2]))\n",
    "            model.add(Dense(network[_layer][0], \n",
    "                            activation=network[_layer][1],\n",
    "                            kernel_regularizer=l1_l2(network[_layer][3],network[_layer][4])))\n",
    "\n",
    "    model.compile(loss='mae', optimizer=optimizer, metrics=['accuracy']) \n",
    "    return model\n",
    "\n",
    "\n",
    "def generate_callbacks():\n",
    "    \n",
    "    early = EarlyStopping(monitor='val_loss', min_delta=0.1, patience=10, \n",
    "                      verbose=0, mode='auto', baseline=None, restore_best_weights=False)\n",
    "    reducelr = ReduceLROnPlateau(monitor='val_loss', factor=0.1, patience=10, \n",
    "                             verbose=0, mode='auto', min_delta=0.001, cooldown=0, min_lr=0)\n",
    "    \n",
    "    return [early, reducelr]"
   ]
  },
  {
   "cell_type": "markdown",
   "metadata": {},
   "source": [
    "### MAIN CLASS OBJECT"
   ]
  },
  {
   "cell_type": "code",
   "execution_count": 7,
   "metadata": {},
   "outputs": [],
   "source": [
    "class gridSearchKerasNN(object):\n",
    "    \n",
    "    def __init__(self, config=None):\n",
    "        \n",
    "        if config is None:\n",
    "            logger.info('No default config dictionaty was loaded')\n",
    "        else:\n",
    "            self.set_config_params(config)\n",
    "            self._config = config\n",
    "            logger.info('Default config dictionaty was initialized')\n",
    "            \n",
    "        self._generate_callbacks = return_empty_list\n",
    "        \n",
    "        return\n",
    "    \n",
    "    def set_grid_params(self, params):\n",
    "        \n",
    "        self._grid_params = params\n",
    "        \n",
    "        return\n",
    "    \n",
    "    def set_callbacks(self, callbacks_function):\n",
    "        \n",
    "        self._generate_callbacks = callbacks_function\n",
    "        \n",
    "        return\n",
    "    \n",
    "    def set_cv_params(self, params):\n",
    "        \n",
    "        self._cv_params = params\n",
    "        \n",
    "        return\n",
    "    \n",
    "    def set_config_params(self, config=None):\n",
    "        \n",
    "        if config is None:\n",
    "            logger.info('Default config parameters will be used')\n",
    "        else:\n",
    "            self.set_grid_params(config['grid_params'])\n",
    "            self.set_cv_params(config['cv_params'])\n",
    "            logger.info('Passed config parameters will be used')\n",
    "        \n",
    "        return\n",
    "    \n",
    "    def initialize_network(self, network_function):\n",
    "        \n",
    "        self._model = KerasRegressor(build_fn=network_function)\n",
    "        \n",
    "        return\n",
    "    \n",
    "    def initialize_grid(self):\n",
    "        \n",
    "        _cv = self._cv_params['cv']\n",
    "        _verb = self._cv_params['verb']\n",
    "        _scoring = self._cv_params['scoring']\n",
    "        _n_jobs = self._cv_params['n_jobs']\n",
    "        \n",
    "        self._grid = GridSearchCV(estimator=self._model, \n",
    "                                  param_grid=self._grid_params, \n",
    "                                  scoring=_scoring, \n",
    "                                  cv=_cv, \n",
    "                                  verbose = _verb,\n",
    "                                  n_jobs = _n_jobs)\n",
    "        logger.info('GridSearchCV object is instantiated')\n",
    "        \n",
    "        return\n",
    "    \n",
    "    def fit(self, X_train, y_train, X_test, y_test):\n",
    "        \n",
    "        self._grid_params['input_layer_shape'] = [X_train.shape[1]]\n",
    "        \n",
    "        self._grid_results = self._grid.fit(X_train, y_train, \n",
    "                                     validation_data=(X_test,y_test), \n",
    "                                     callbacks=self._generate_callbacks(), \n",
    "                                     verbose=0)\n",
    "        \n",
    "        print(\"Best: %f using %s\" % (self._grid_results.best_score_, self._grid_results.best_params_))\n",
    "        \n",
    "        return\n",
    "    \n",
    "    def predict(self, X_test, y_test):\n",
    "        \n",
    "        y_pred = self._grid.predict(X_test)\n",
    "        mae = mean_absolute_error(y_test, y_pred)\n",
    "        rmse = np.sqrt(mean_squared_error(y_test, y_pred))\n",
    "        logger.info('MAE on test: {:.2f}, RMSE on test: {:.2f}'.format(mae, rmse))\n",
    "        \n",
    "        return\n",
    "    \n",
    "    def load(self):\n",
    "        \n",
    "        return\n",
    "    \n",
    "    def dump(self):\n",
    "        \n",
    "        return"
   ]
  },
  {
   "cell_type": "markdown",
   "metadata": {},
   "source": [
    "### EXAMPLE: BOSTON HOUSING DATASET"
   ]
  },
  {
   "cell_type": "code",
   "execution_count": 8,
   "metadata": {},
   "outputs": [],
   "source": [
    "# PREPROCESSING\n",
    "\n",
    "(X_train, y_train), (X_test, y_test) = boston_housing.load_data()\n",
    "\n",
    "X_scaler = StandardScaler()\n",
    "X_scaler.fit(X_train)\n",
    "X_train = X_scaler.transform(X_train)\n",
    "X_test = X_scaler.transform(X_test)"
   ]
  },
  {
   "cell_type": "code",
   "execution_count": 9,
   "metadata": {},
   "outputs": [
    {
     "name": "stderr",
     "output_type": "stream",
     "text": [
      "2020-01-03 09:53:24,685 - INFO - Passed config parameters will be used\n",
      "2020-01-03 09:53:24,686 - INFO - Default config dictionaty was initialized\n",
      "2020-01-03 09:53:24,687 - INFO - GridSearchCV object is instantiated\n",
      "[Parallel(n_jobs=-1)]: Using backend LokyBackend with 24 concurrent workers.\n"
     ]
    },
    {
     "name": "stdout",
     "output_type": "stream",
     "text": [
      "Fitting 6 folds for each of 48 candidates, totalling 288 fits\n"
     ]
    },
    {
     "name": "stderr",
     "output_type": "stream",
     "text": [
      "[Parallel(n_jobs=-1)]: Done 114 tasks      | elapsed:   32.0s\n",
      "C:\\ProgramData\\Anaconda3\\lib\\site-packages\\joblib\\externals\\loky\\process_executor.py:706: UserWarning: A worker stopped while some jobs were given to the executor. This can be caused by a too short worker timeout or by a memory leak.\n",
      "  \"timeout or by a memory leak.\", UserWarning\n"
     ]
    },
    {
     "name": "stdout",
     "output_type": "stream",
     "text": [
      "WARNING:tensorflow:From C:\\ProgramData\\Anaconda3\\lib\\site-packages\\tensorflow\\python\\ops\\init_ops.py:1251: calling VarianceScaling.__init__ (from tensorflow.python.ops.init_ops) with dtype is deprecated and will be removed in a future version.\n",
      "Instructions for updating:\n",
      "Call initializer instance with the dtype argument instead of passing it to the constructor\n"
     ]
    },
    {
     "name": "stderr",
     "output_type": "stream",
     "text": [
      "[Parallel(n_jobs=-1)]: Done 288 out of 288 | elapsed:  1.3min finished\n",
      "C:\\ProgramData\\Anaconda3\\lib\\site-packages\\sklearn\\model_selection\\_search.py:813: DeprecationWarning: The default of the `iid` parameter will change from True to False in version 0.22 and will be removed in 0.24. This will change numeric results when test-set sizes are unequal.\n",
      "  DeprecationWarning)\n",
      "2020-01-03 09:54:40,367 - WARNING - From C:\\ProgramData\\Anaconda3\\lib\\site-packages\\tensorflow\\python\\ops\\init_ops.py:1251: calling VarianceScaling.__init__ (from tensorflow.python.ops.init_ops) with dtype is deprecated and will be removed in a future version.\n",
      "Instructions for updating:\n",
      "Call initializer instance with the dtype argument instead of passing it to the constructor\n"
     ]
    },
    {
     "name": "stdout",
     "output_type": "stream",
     "text": [
      "Best: -2.489936 using {'batch_size': 32, 'epochs': 100, 'input_layer_shape': 13, 'network': ((20, 'relu', 0.1, 0, 0), (10, 'relu', 0.1, 0, 0), (1, 'linear', 0, 0, 0)), 'optimizer': 'sgd'}\n",
      "Wall time: 1min 18s\n"
     ]
    }
   ],
   "source": [
    "%%time\n",
    "# TRAIN\n",
    "gridKeras = gridSearchKerasNN(kerasgrid_config)\n",
    "#gridKeras.set_callbacks(generate_callbacks)\n",
    "gridKeras.initialize_network(create_model)\n",
    "gridKeras.initialize_grid()\n",
    "gridKeras.fit(X_train, y_train, X_test, y_test)"
   ]
  },
  {
   "cell_type": "code",
   "execution_count": 10,
   "metadata": {},
   "outputs": [
    {
     "name": "stderr",
     "output_type": "stream",
     "text": [
      "2020-01-03 09:54:50,185 - INFO - MAE on test: 2.76, RMSE on test: 4.02\n"
     ]
    }
   ],
   "source": [
    "# TEST\n",
    "gridKeras.predict(X_test,y_test)"
   ]
  },
  {
   "cell_type": "markdown",
   "metadata": {},
   "source": [
    "### PLOT"
   ]
  },
  {
   "cell_type": "code",
   "execution_count": 15,
   "metadata": {},
   "outputs": [
    {
     "data": {
      "text/plain": [
       "{'batch_size': 32,\n",
       " 'epochs': 150,\n",
       " 'input_layer_shape': 13,\n",
       " 'network': ((20, 'relu', 0.1, 0, 0),\n",
       "  (10, 'relu', 0.1, 0, 0),\n",
       "  (1, 'linear', 0, 0, 0)),\n",
       " 'optimizer': 'sgd'}"
      ]
     },
     "execution_count": 15,
     "metadata": {},
     "output_type": "execute_result"
    }
   ],
   "source": [
    "gridKeras._grid_results.best_params_"
   ]
  },
  {
   "cell_type": "code",
   "execution_count": 16,
   "metadata": {},
   "outputs": [
    {
     "data": {
      "image/png": "[encoded data removed]",
      "text/plain": [
       "<Figure size 864x432 with 1 Axes>"
      ]
     },
     "metadata": {
      "needs_background": "light"
     },
     "output_type": "display_data"
    }
   ],
   "source": [
    "_mean_train = gridKeras._grid_results.cv_results_['mean_train_score']\n",
    "_lower_train = gridKeras._grid_results.cv_results_['mean_train_score'] - gridKeras._grid_results.cv_results_['std_train_score']\n",
    "_upper_train = gridKeras._grid_results.cv_results_['mean_train_score'] + gridKeras._grid_results.cv_results_['std_train_score']\n",
    "\n",
    "_mean_test = gridKeras._grid_results.cv_results_['mean_test_score']\n",
    "_lower_test = gridKeras._grid_results.cv_results_['mean_test_score'] - gridKeras._grid_results.cv_results_['std_test_score']\n",
    "_upper_test = gridKeras._grid_results.cv_results_['mean_test_score'] + gridKeras._grid_results.cv_results_['std_test_score']\n",
    "\n",
    "plt.figure(figsize=(12,6))\n",
    "plt.fill_between(range(len(_lower_train)), _lower_train, _upper_train, facecolor='blue', alpha=0.4)\n",
    "plt.plot(_mean_train, color='blue')\n",
    "\n",
    "plt.fill_between(range(len(_lower_test)), _lower_test, _upper_test, facecolor='red', alpha=0.4)\n",
    "plt.plot(_mean_test, color='red')\n",
    "\n",
    "plt.show()\n"
   ]
  },
  {
   "cell_type": "code",
   "execution_count": null,
   "metadata": {},
   "outputs": [],
   "source": []
  }
 ],
 "metadata": {
  "kernelspec": {
   "display_name": "Python 3",
   "language": "python",
   "name": "python3"
  },
  "language_info": {
   "codemirror_mode": {
    "name": "ipython",
    "version": 3
   },
   "file_extension": ".py",
   "mimetype": "text/x-python",
   "name": "python",
   "nbconvert_exporter": "python",
   "pygments_lexer": "ipython3",
   "version": "3.6.9"
  }
 },
 "nbformat": 4,
 "nbformat_minor": 2
}
